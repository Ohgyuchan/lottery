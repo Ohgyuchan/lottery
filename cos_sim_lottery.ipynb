{
 "cells": [
  {
   "cell_type": "code",
   "execution_count": 1,
   "metadata": {},
   "outputs": [],
   "source": [
    "import pandas as pd\n",
    "import numpy as np\n",
    "from numpy import dot\n",
    "from numpy.linalg import norm\n",
    "from itertools import combinations\n",
    "import time"
   ]
  },
  {
   "cell_type": "code",
   "execution_count": 2,
   "metadata": {},
   "outputs": [
    {
     "name": "stdout",
     "output_type": "stream",
     "text": [
      "총 당첨 번호 개수: 1139\n",
      "   0   1   2   3   4   5\n",
      "0  5  11  14  27  29  36\n",
      "1  5  12  17  29  34  35\n",
      "2  4  12  24  33  38  45\n",
      "3  8  10  23  24  35  43\n",
      "4  3   4  12  14  25  43\n"
     ]
    }
   ],
   "source": [
    "# 엑셀 파일에서 당첨 번호 읽기\n",
    "winner_number = pd.read_excel('winner_number.xlsx', header=None, index_col=None, engine='openpyxl')\n",
    "\n",
    "# 당첨 번호 리스트 만들기\n",
    "winner_list = winner_number.values.tolist()\n",
    "\n",
    "print(f\"총 당첨 번호 개수: {len(winner_number)}\")\n",
    "print(winner_number.head())  # 전체 데이터 대신 앞부분만 출력"
   ]
  },
  {
   "cell_type": "code",
   "execution_count": 3,
   "metadata": {},
   "outputs": [],
   "source": [
    "def cos_sim(A, B):\n",
    "    return dot(A, B) / (norm(A) * norm(B))\n",
    "\n",
    "def result_format(A):\n",
    "    return f\"{A}\"\n",
    "\n",
    "def calculate_similarity_matrix(winner_list):\n",
    "    winner_array = np.array(winner_list, dtype=float)\n",
    "    norm_winner = np.linalg.norm(winner_array, axis=1)\n",
    "    similarity_matrix = np.dot(winner_array, winner_array.T) / np.outer(norm_winner, norm_winner)\n",
    "    np.fill_diagonal(similarity_matrix, 0)\n",
    "    return similarity_matrix\n",
    "\n",
    "def find_most_similar_combinations(similarity_matrix, winner_list, top_n=5):\n",
    "    average_similarities = similarity_matrix.mean(axis=1)\n",
    "    top_indices = average_similarities.argsort()[::-1][:top_n]\n",
    "    results = [(result_format(winner_list[i]), average_similarities[i]) for i in top_indices]\n",
    "    return results\n",
    "\n",
    "def get_lottery_combinations(winner_set):\n",
    "    all_combinations = set(combinations(range(1, 46), 6))\n",
    "    return all_combinations - winner_set\n",
    "\n",
    "def find_top_similar(combinations, target, top_n=5):\n",
    "    target_array = np.array(target, dtype=float)\n",
    "    similarities = ((comb, cos_sim(np.array(comb, dtype=float), target_array)) for comb in combinations)\n",
    "    return sorted(similarities, key=lambda x: x[1], reverse=True)[:top_n]"
   ]
  },
  {
   "cell_type": "code",
   "execution_count": 4,
   "metadata": {},
   "outputs": [
    {
     "name": "stdout",
     "output_type": "stream",
     "text": [
      "가장 유사도가 높은 로또 번호 조합:\n",
      "[7, 11, 16, 21, 27, 33]: 0.9824\n",
      "[5, 13, 17, 23, 28, 36]: 0.9821\n",
      "[6, 12, 19, 24, 34, 41]: 0.9821\n",
      "[5, 10, 16, 24, 27, 35]: 0.9818\n",
      "[7, 15, 20, 25, 33, 43]: 0.9818\n"
     ]
    }
   ],
   "source": [
    "# 유사도 행렬 계산\n",
    "similarity_matrix = calculate_similarity_matrix(winner_list)\n",
    "\n",
    "# 가장 유사한 조합 찾기\n",
    "top_combinations = find_most_similar_combinations(similarity_matrix, winner_list)\n",
    "\n",
    "print(\"가장 유사도가 높은 로또 번호 조합:\")\n",
    "for combo, similarity in top_combinations:\n",
    "    print(f\"{combo}: {similarity:.4f}\")"
   ]
  },
  {
   "cell_type": "code",
   "execution_count": 5,
   "metadata": {},
   "outputs": [
    {
     "name": "stdout",
     "output_type": "stream",
     "text": [
      "첫 번째 조합: [7, 11, 16, 21, 27, 33], 유사도: 0.9823740732197191\n",
      "6/45 로또 총 가능 조합 #: 8145060\n",
      "이미 당첨된 로또 조합 #: 1139\n",
      "실제 검사 조합: 8143921\n",
      "\n",
      "실행 시간: 37.66초\n",
      "\n",
      "코사인 유사도가 가장 높은 5개 조합:\n",
      "(8, 13, 19, 25, 32, 39): 0.9999852071960997\n",
      "(9, 14, 21, 27, 35, 43): 0.9999740911892472\n",
      "(10, 15, 22, 29, 37, 45): 0.9999726795223001\n",
      "(6, 9, 13, 17, 22, 27): 0.9999688587421534\n",
      "(9, 15, 21, 28, 36, 44): 0.9999656330120504\n"
     ]
    }
   ],
   "source": [
    "# 메인 실행 부분\n",
    "start_time = time.time()\n",
    "\n",
    "first_combo, first_similarity = top_combinations[0]\n",
    "print(f\"첫 번째 조합: {first_combo}, 유사도: {first_similarity}\")\n",
    "\n",
    "winner_set = set(tuple(sorted(combo)) for combo in winner_list)\n",
    "target_numbers = np.array(eval(first_combo), dtype=float)  # 문자열을 리스트로 변환 후 NumPy 배열로 변환\n",
    "\n",
    "print(f\"6/45 로또 총 가능 조합 #: {len(set(combinations(range(1, 46), 6)))}\")\n",
    "print(f\"이미 당첨된 로또 조합 #: {len(winner_set)}\")\n",
    "\n",
    "# 가능한 모든 조합 생성 (winner_set 제외)\n",
    "valid_combinations = get_lottery_combinations(winner_set)\n",
    "\n",
    "print(f\"실제 검사 조합: {len(valid_combinations)}\")\n",
    "\n",
    "# 상위 5개 유사한 조합 찾기\n",
    "top_5_similar = find_top_similar(valid_combinations, target_numbers)\n",
    "\n",
    "end_time = time.time()\n",
    "\n",
    "print(f\"\\n실행 시간: {end_time - start_time:.2f}초\")\n",
    "\n",
    "print(\"\\n코사인 유사도가 가장 높은 5개 조합:\")\n",
    "for comb, similarity in top_5_similar:\n",
    "    print(f\"{comb}: {similarity}\")"
   ]
  }
 ],
 "metadata": {
  "kernelspec": {
   "display_name": "Python 3.10.6 64-bit",
   "language": "python",
   "name": "python3"
  },
  "language_info": {
   "codemirror_mode": {
    "name": "ipython",
    "version": 3
   },
   "file_extension": ".py",
   "mimetype": "text/x-python",
   "name": "python",
   "nbconvert_exporter": "python",
   "pygments_lexer": "ipython3",
   "version": "3.9.7"
  },
  "orig_nbformat": 4,
  "vscode": {
   "interpreter": {
    "hash": "aee8b7b246df8f9039afb4144a1f6fd8d2ca17a180786b69acc140d282b71a49"
   }
  }
 },
 "nbformat": 4,
 "nbformat_minor": 2
}
