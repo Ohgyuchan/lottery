{
 "cells": [
  {
   "cell_type": "code",
   "execution_count": 31,
   "metadata": {},
   "outputs": [],
   "source": [
    "import pandas as pd\n",
    "import openpyxl\n",
    "\n",
    "df = pd.read_excel('excel.xlsx')"
   ]
  },
  {
   "cell_type": "code",
   "execution_count": 32,
   "metadata": {},
   "outputs": [
    {
     "name": "stdout",
     "output_type": "stream",
     "text": [
      "     ȸ· ß÷᰺ Unnamed: 1  Unnamed: 2                Unnamed: 3  Unnamed: 4  \\\n",
      "0         ⵵         ȸ·   ß÷_x000F_                     1td>         NaN   \n",
      "1       NaN        NaN         NaN  烷_x001A__xDEB2__xDFF4_d>     烷ݾ׼/td>   \n",
      "2      2022       1037  2022.10.15                        15  1708576825   \n",
      "3       NaN       1036  2022.10.08                         9  2837323167   \n",
      "4       NaN       1035  2022.10.01                         8  3231193735   \n",
      "...     ...        ...         ...                       ...         ...   \n",
      "1034    NaN          5  2003.01.04                         0           0   \n",
      "1035   2002          4  2002.12.28                         0           0   \n",
      "1036    NaN          3  2002.12.21                         1  2000000000   \n",
      "1037    NaN          2  2002.12.14                         1  2002006800   \n",
      "1038    NaN          1  2002.12.07                         0           0   \n",
      "\n",
      "                    Unnamed: 5 Unnamed: 6                Unnamed: 7  \\\n",
      "0                        2td>        NaN                     3td>   \n",
      "1     烷_x001A__xDEB2__xDFF4_d>    烷ݾ׼/td>  烷_x001A__xDEB2__xDFF4_d>   \n",
      "2                           78   54762078                      2713   \n",
      "3                           64   66499762                      2593   \n",
      "4                           71   60679695                      2848   \n",
      "...                        ...        ...                       ...   \n",
      "1034                         0          0                        42   \n",
      "1035                         1  211191200                        29   \n",
      "1036                         0          0                       139   \n",
      "1037                         2   94866800                       103   \n",
      "1038                         1  143934100                        28   \n",
      "\n",
      "     Unnamed: 8                Unnamed: 9 Unnamed: 10  \\\n",
      "0           NaN                     4td>         NaN   \n",
      "1       烷ݾ׼/td>  烷_x001A__xDEB2__xDFF4_d>     烷ݾ׼/td>   \n",
      "2       1574435                    137021       50000   \n",
      "3       1641337                    133443       50000   \n",
      "4       1512732                    141624       50000   \n",
      "...         ...                       ...         ...   \n",
      "1034    6033800                      3043      166500   \n",
      "1035    7282400                      2777      152100   \n",
      "1036    1174100                      5940       54900   \n",
      "1037    1842000                      3763      100800   \n",
      "1038    5140500                      2537      113400   \n",
      "\n",
      "                   Unnamed: 11 Unnamed: 12 Unnamed: 13  Unnamed: 14  \\\n",
      "0                        5td>         NaN          烷ȣ          NaN   \n",
      "1     烷_x001A__xDEB2__xDFF4_d>     烷ݾ׼/td>           1          2.0   \n",
      "2                      2279500        5000           2         14.0   \n",
      "3                      2231388        5000           2          5.0   \n",
      "4                      2366499        5000           9         14.0   \n",
      "...                        ...         ...         ...          ...   \n",
      "1034                     60434       10000          16         24.0   \n",
      "1035                     52382       10000          14         27.0   \n",
      "1036                     73256       10000          11         16.0   \n",
      "1037                     55480       10000           9         13.0   \n",
      "1038                     40155       10000          10         23.0   \n",
      "\n",
      "      Unnamed: 15  Unnamed: 16  Unnamed: 17  Unnamed: 18 Unnamed: 19  \n",
      "0             NaN          NaN          NaN          NaN         NaN  \n",
      "1             3.0          4.0          5.0          6.0           ʽ  \n",
      "2            15.0         22.0         27.0         33.0          31  \n",
      "3            22.0         32.0         34.0         45.0          39  \n",
      "4            34.0         35.0         41.0         42.0           2  \n",
      "...           ...          ...          ...          ...         ...  \n",
      "1034         29.0         40.0         41.0         42.0           3  \n",
      "1035         30.0         31.0         40.0         42.0           2  \n",
      "1036         19.0         21.0         27.0         31.0          30  \n",
      "1037         21.0         25.0         32.0         42.0           2  \n",
      "1038         29.0         33.0         37.0         40.0          16  \n",
      "\n",
      "[1039 rows x 20 columns]\n"
     ]
    }
   ],
   "source": [
    "print(df)"
   ]
  },
  {
   "cell_type": "code",
   "execution_count": null,
   "metadata": {},
   "outputs": [],
   "source": []
  }
 ],
 "metadata": {
  "kernelspec": {
   "display_name": "Python 3.10.6 64-bit",
   "language": "python",
   "name": "python3"
  },
  "language_info": {
   "codemirror_mode": {
    "name": "ipython",
    "version": 3
   },
   "file_extension": ".py",
   "mimetype": "text/x-python",
   "name": "python",
   "nbconvert_exporter": "python",
   "pygments_lexer": "ipython3",
   "version": "3.10.6"
  },
  "orig_nbformat": 4,
  "vscode": {
   "interpreter": {
    "hash": "aee8b7b246df8f9039afb4144a1f6fd8d2ca17a180786b69acc140d282b71a49"
   }
  }
 },
 "nbformat": 4,
 "nbformat_minor": 2
}
